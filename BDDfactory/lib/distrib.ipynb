{
 "cells": [
  {
   "cell_type": "markdown",
   "id": "61d2f1f7-ae6e-46b9-90e5-08c124b71563",
   "metadata": {},
   "source": [
    "## Import"
   ]
  },
  {
   "cell_type": "code",
   "execution_count": 1,
   "id": "15028865-d7fb-4bca-90e0-92d2d64dc374",
   "metadata": {},
   "outputs": [],
   "source": [
    "import os, sys\n",
    "workpath = sys.path[0]\n",
    "#print (workpath)\n",
    "\n",
    "import random as r\n",
    "import numpy as np\n",
    "import matplotlib.pyplot as plt\n",
    "from shutil import copyfile\n",
    "\n",
    "from bdd_prs import *\n",
    "\n",
    "list_of_class = [\"CUBO\",\"DEC\",\"FCC\",\"FCC-sphere\",\"HCP-sphere\",\"ICO\",\"MnBeta-sphere\",\"OH\",\"RTD\",\"BCC\",\"DODECA\"]\n",
    "Nclass = len(list_of_class)"
   ]
  },
  {
   "cell_type": "markdown",
   "id": "15231e93-ef10-4df8-a336-7ccd978677f7",
   "metadata": {},
   "source": [
    "## Fonctions distributions"
   ]
  },
  {
   "cell_type": "code",
   "execution_count": 3,
   "id": "a6b6b234-1c5a-449b-b417-b3f9c02f3033",
   "metadata": {},
   "outputs": [],
   "source": [
    "def distrib_BDD (BDDpath , result = True):\n",
    "    \"\"\"Renvoie la répartition des classes dans la BDD \n",
    "    Entrée : chemin vers la BDD , result=True pour afficher les résultats ; \n",
    "    Sortie : si result=False, renvoie distribution en %, noms des fichier et nb fichier\"\"\"\n",
    "    \n",
    "    BDDcontent = os.listdir(BDDpath)\n",
    "    distrib = np.zeros (Nclass , dtype = int)\n",
    "    Nbimg = len(BDDcontent)\n",
    "    \n",
    "    for img in BDDcontent:\n",
    "        classID = int ( img[:3] ) - 1\n",
    "        distrib[classID] += 1\n",
    "    \n",
    "    if result == True:\n",
    "        distrib = (distrib/Nbimg)*100\n",
    "        plt.figure(figsize = (15,2))\n",
    "        plt.bar(range(Nclass),distrib, align='center', tick_label = list_of_class)\n",
    "        plt.ylabel('Part %')\n",
    "        plt.xlabel('Class')\n",
    "        plt.title('Distrib')\n",
    "        plt.show()\n",
    "        for i in range(Nclass):\n",
    "            print ( f'Part of {list_of_class[i]} in BDD = {distrib[i]} %\\n') \n",
    "    \n",
    "    else:\n",
    "        return distrib , BDDcontent , Nbimg"
   ]
  },
  {
   "cell_type": "code",
   "execution_count": 3,
   "id": "122ed80a-7c26-477a-92a4-ab4cefd1f150",
   "metadata": {},
   "outputs": [
    {
     "data": {
      "image/png": "[encoded data removed]",
      "text/plain": [
       "<Figure size 1500x200 with 1 Axes>"
      ]
     },
     "metadata": {},
     "output_type": "display_data"
    },
    {
     "name": "stdout",
     "output_type": "stream",
     "text": [
      "Part of CUBO in BDD = 8.975 %\n",
      "\n",
      "Part of DEC in BDD = 9.105 %\n",
      "\n",
      "Part of FCC in BDD = 9.075 %\n",
      "\n",
      "Part of FCC-sphere in BDD = 9.225 %\n",
      "\n",
      "Part of HCP-sphere in BDD = 9.045 %\n",
      "\n",
      "Part of ICO in BDD = 9.095 %\n",
      "\n",
      "Part of MnBeta-sphere in BDD = 9.155000000000001 %\n",
      "\n",
      "Part of OH in BDD = 9.085 %\n",
      "\n",
      "Part of RTD in BDD = 9.15 %\n",
      "\n",
      "Part of BCC in BDD = 9.06 %\n",
      "\n",
      "Part of DODECA in BDD = 9.030000000000001 %\n",
      "\n"
     ]
    }
   ],
   "source": [
    "def equalize_BDD(BDDpath):\n",
    "    \"\"\"Egalise la répartition en classe\n",
    "    Entrée : chemin BDD;\n",
    "    Sortie : None, création BDD égalisé dans le même fichier que la BDD source\"\"\"\n",
    "    \n",
    "    distrib , BDDcontent , Nbimg = distrib_BDD(BDDpath,result = False)\n",
    "    New_distrib = np.ones ( Nclass,dtype = int ) * (min(distrib))\n",
    "    fill_track  = np.zeros( Nclass,dtype = int ) \n",
    "    banned_class = []\n",
    "    \n",
    "    def check():\n",
    "        '''return class that do not need to be added to new BDD'''\n",
    "        for c in range(Nclass):\n",
    "            if c not in banned_class and fill_track[c] >= New_distrib[c] :\n",
    "                banned_class.append(c)\n",
    "    \n",
    "    BDDname = str.split(BDDpath,'\\\\')[-1]\n",
    "    newBDDname = f'{BDDname}(equalized)'\n",
    "    \n",
    "    if not os.path.exists(f'{workpath}\\{newBDDname}'):\n",
    "        os.mkdir(f'{workpath}\\{newBDDname}')\n",
    "    \n",
    "    if len(os.listdir(f'{workpath}\\{newBDDname}')) == 0:\n",
    "        \n",
    "        ImgRemoved = 0\n",
    "        while len(banned_class) < Nclass:\n",
    "            check()\n",
    "            random_index = r.randrange(0 , Nbimg - ImgRemoved)\n",
    "            ID  = int(BDDcontent[random_index][:3]) - 1\n",
    "            \n",
    "            if ID not in banned_class:\n",
    "                img = BDDcontent[random_index]\n",
    "                copyfile ( f'{BDDpath}\\{img}' , f'{workpath}\\{newBDDname}\\{img}')\n",
    "            \n",
    "                BDDcontent.pop(random_index)\n",
    "                ImgRemoved += 1\n",
    "                fill_track[ID] += 1\n",
    "                 \n",
    "        augmente_BDD (f'{workpath}\\{newBDDname}' , True , Nbimg - len(os.listdir(f'{workpath}\\{newBDDname}')))"
   ]
  },
  {
   "cell_type": "code",
   "execution_count": 4,
   "id": "4449554b-3671-47c3-b35e-86fe128ed8cc",
   "metadata": {},
   "outputs": [],
   "source": [
    "def custom_BDD(BDDpath):\n",
    "    \"\"\"Crée une BDD avec une distribution précise\n",
    "    Entrée : chemin BDD;\n",
    "    Sortie : None, création BDD dans le même fichier que la BDD source\"\"\"\n",
    "    \n",
    "    prop = np.zeros ( Nclass , dtype = np.float16)\n",
    "    newBDDname = input('Nom de la BDD :')\n",
    "    ok_carac = ['0','1','2','3','4','5','6','7','8','9','.']\n",
    "    for i in range (Nclass):\n",
    "        p = input(f'Proportion (%) en {list_of_class[i]} : ')\n",
    "        for c in p:\n",
    "            if c not in ok_carac:\n",
    "                print('Saisie invalide : erreur format des proportions')\n",
    "                custom_BDD(BDDpath)\n",
    "        prop[i] = float(p)\n",
    "    prop = prop/100\n",
    "    if not(0.99 <= sum(prop) <= 1.01):\n",
    "        print ('Saisie invalide : erreur somme des proportions')\n",
    "        custom_BDD(BDDpath)\n",
    "        \n",
    "    if not os.path.exists(f'{workpath}\\{newBDDname}'):\n",
    "        os.mkdir(f'{workpath}\\{newBDDname}')\n",
    "        \n",
    "    if len(os.listdir(f'{workpath}\\{newBDDname}')) == 0:\n",
    "    \n",
    "        distrib , BDDcontent , N = distrib_BDD(BDDpath,result = False)\n",
    "        BDDcontent = sorted(BDDcontent)\n",
    "        m = 0\n",
    "        BDDcontent_class = []\n",
    "        for i in range(Nclass):\n",
    "            BDDcontent_class.append(BDDcontent[m : m + distrib[i]])\n",
    "            m += distrib[i]\n",
    "    \n",
    "        for k in range(Nclass):\n",
    "            if round(N*prop[k]) >= distrib[k]:\n",
    "                for img_name in BDDcontent_class[k]:\n",
    "                    copyfile (f'{BDDpath}\\{img_name}' , f'{workpath}\\{newBDDname}\\{img_name}')\n",
    "                id2exclude = np.delete ( np.arange(1,Nclass+1) , k )\n",
    "                augmente_BDD ( f'{workpath}\\{newBDDname}' , True , round(N*prop[k]) - distrib[k] , id2exclude)\n",
    "            \n",
    "            else:\n",
    "                stock = BDDcontent_class[k][:]\n",
    "                i = 0\n",
    "                while i< N*prop[k]:\n",
    "                    random_index = r.randrange(0 , round(N*prop[k]) - i)\n",
    "                    img_name = stock[random_index]\n",
    "                    copyfile (f'{BDDpath}\\{img_name}', f'{workpath}\\{newBDDname}\\{img_name}')\n",
    "                    stock.pop(random_index)\n",
    "                    i = i+1"
   ]
  }
 ],
 "metadata": {
  "kernelspec": {
   "display_name": "fidle-env",
   "language": "python",
   "name": "python3"
  },
  "language_info": {
   "codemirror_mode": {
    "name": "ipython",
    "version": 3
   },
   "file_extension": ".py",
   "mimetype": "text/x-python",
   "name": "python",
   "nbconvert_exporter": "python",
   "pygments_lexer": "ipython3",
   "version": "3.9.6"
  },
  "vscode": {
   "interpreter": {
    "hash": "5e809813e174d9a58005452b2677866758bf61093d909e32081dc66ccd986c24"
   }
  }
 },
 "nbformat": 4,
 "nbformat_minor": 5
}
