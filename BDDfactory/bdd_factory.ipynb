{
 "cells": [
  {
   "cell_type": "code",
   "execution_count": 1,
   "id": "e56e6011-0bb3-49c7-b4b2-366b9bb4de14",
   "metadata": {},
   "outputs": [],
   "source": [
    "import sys\n",
    "workpath = sys.path[0]\n",
    "bddpath  = workpath + r'\\BDDarchive'\n",
    "sys.path.append(workpath + r'\\lib')\n",
    "\n",
    "from distrib import *"
   ]
  },
  {
   "cell_type": "code",
   "execution_count": 8,
   "id": "98fecc70",
   "metadata": {},
   "outputs": [],
   "source": []
  }
 ],
 "metadata": {
  "kernelspec": {
   "display_name": "fidle-env",
   "language": "python",
   "name": "python3"
  },
  "language_info": {
   "codemirror_mode": {
    "name": "ipython",
    "version": 3
   },
   "file_extension": ".py",
   "mimetype": "text/x-python",
   "name": "python",
   "nbconvert_exporter": "python",
   "pygments_lexer": "ipython3",
   "version": "3.9.6"
  },
  "vscode": {
   "interpreter": {
    "hash": "5e809813e174d9a58005452b2677866758bf61093d909e32081dc66ccd986c24"
   }
  }
 },
 "nbformat": 4,
 "nbformat_minor": 5
}
