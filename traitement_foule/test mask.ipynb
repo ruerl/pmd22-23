{
 "cells": [
  {
   "cell_type": "code",
   "execution_count": 1,
   "metadata": {},
   "outputs": [],
   "source": [
    "import os ,sys\n",
    "import numpy as np\n",
    "import random as r\n",
    "import cv2\n",
    "workpath = sys.path[0]\n",
    "#print (workpath)\n",
    "\n",
    "import matplotlib.pyplot as plt"
   ]
  },
  {
   "cell_type": "code",
   "execution_count": 4,
   "metadata": {},
   "outputs": [],
   "source": [
    "def gaussian_kernel (img_matrix : np.array):\n",
    "    size = np.shape(img_matrix)\n",
    "    x = size[0]\n",
    "    y = size[1]\n",
    "    sigmaX , sigmaY = x//10 , y//10\n",
    "    return sigmaX , sigmaY"
   ]
  },
  {
   "cell_type": "code",
   "execution_count": 5,
   "metadata": {},
   "outputs": [],
   "source": [
    "def extract (img_matrix : np.array):\n",
    "    sigmaX , sigmaY = gaussian_kernel(img_matrix)\n",
    "\n",
    "    img_0noise = cv2.fastNlMeansDenoising(img_matrix , h=20 , templateWindowSize=7 , searchWindowSize=21)\n",
    "    img_blur   = cv2.GaussianBlur (img_0noise , ksize=0 , sigmaX=sigmaX , sigmaY=sigmaY)\n",
    "    img_thresh = cv2.threshold(img_blur, 0, 255, cv2.THRESH_BINARY + cv2.THRESH_OTSU)[1]\n",
    "\n",
    "    return img_thresh\n"
   ]
  },
  {
   "cell_type": "code",
   "execution_count": 13,
   "metadata": {},
   "outputs": [
    {
     "name": "stdout",
     "output_type": "stream",
     "text": [
      "<class 'NoneType'>\n"
     ]
    },
    {
     "ename": "error",
     "evalue": "OpenCV(4.6.0) D:\\a\\opencv-python\\opencv-python\\opencv\\modules\\highgui\\src\\window.cpp:967: error: (-215:Assertion failed) size.width>0 && size.height>0 in function 'cv::imshow'\n",
     "output_type": "error",
     "traceback": [
      "\u001b[1;31m---------------------------------------------------------------------------\u001b[0m",
      "\u001b[1;31merror\u001b[0m                                     Traceback (most recent call last)",
      "\u001b[1;32mc:\\Users\\33648\\Desktop\\pmd\\fidle\\traitement_foule\\extract.ipynb Cell 4\u001b[0m in \u001b[0;36m1\n\u001b[0;32m     <a href='vscode-notebook-cell:/c%3A/Users/33648/Desktop/pmd/fidle/traitement_foule/extract.ipynb#W3sZmlsZQ%3D%3D?line=14'>15</a>\u001b[0m \u001b[39m#plt.imshow(extract(img))\u001b[39;00m\n\u001b[0;32m     <a href='vscode-notebook-cell:/c%3A/Users/33648/Desktop/pmd/fidle/traitement_foule/extract.ipynb#W3sZmlsZQ%3D%3D?line=16'>17</a>\u001b[0m cv2\u001b[39m.\u001b[39mnamedWindow(\u001b[39m'\u001b[39m\u001b[39mW1\u001b[39m\u001b[39m'\u001b[39m,cv2\u001b[39m.\u001b[39mWINDOW_NORMAL)\n\u001b[1;32m---> <a href='vscode-notebook-cell:/c%3A/Users/33648/Desktop/pmd/fidle/traitement_foule/extract.ipynb#W3sZmlsZQ%3D%3D?line=17'>18</a>\u001b[0m cv2\u001b[39m.\u001b[39;49mimshow(\u001b[39m'\u001b[39;49m\u001b[39mW1\u001b[39;49m\u001b[39m'\u001b[39;49m,img)\n",
      "\u001b[1;31merror\u001b[0m: OpenCV(4.6.0) D:\\a\\opencv-python\\opencv-python\\opencv\\modules\\highgui\\src\\window.cpp:967: error: (-215:Assertion failed) size.width>0 && size.height>0 in function 'cv::imshow'\n"
     ]
    }
   ],
   "source": [
    "img = cv2.imread(f'{workpath}\\\\NP2.jpg',0)\n",
    "\n",
    "'''\n",
    "cv2.namedWindow('W1')\n",
    "cv2.imshow('W1',img)\n",
    "cv2.namedWindow('W2')\n",
    "cv2.imshow('W2',extract( img))\n",
    "\n",
    "cv2.waitKey(0) #attend infinitivement mon clique de souris ou clavier\n",
    "cv2.destroyAllWindows()\n",
    "'''\n",
    "\n",
    "print (type(img))\n",
    "\n",
    "#plt.imshow(extract(img))\n",
    "\n",
    "cv2.namedWindow('W1',cv2.WINDOW_NORMAL)\n",
    "cv2.imshow('W1',img)"
   ]
  },
  {
   "cell_type": "code",
   "execution_count": null,
   "metadata": {},
   "outputs": [],
   "source": []
  }
 ],
 "metadata": {
  "kernelspec": {
   "display_name": "fidle-env",
   "language": "python",
   "name": "python3"
  },
  "language_info": {
   "codemirror_mode": {
    "name": "ipython",
    "version": 3
   },
   "file_extension": ".py",
   "mimetype": "text/x-python",
   "name": "python",
   "nbconvert_exporter": "python",
   "pygments_lexer": "ipython3",
   "version": "3.9.6"
  },
  "orig_nbformat": 4
 },
 "nbformat": 4,
 "nbformat_minor": 2
}
