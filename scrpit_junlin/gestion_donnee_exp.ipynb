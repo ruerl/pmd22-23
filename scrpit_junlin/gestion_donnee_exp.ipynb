{
 "cells": [
  {
   "cell_type": "markdown",
   "id": "6c54fb06-7d6e-4e50-97c9-351046a01f9b",
   "metadata": {},
   "source": [
    "## obtenir les donnée de tensorboard d'un entrainement"
   ]
  },
  {
   "cell_type": "code",
   "execution_count": 3,
   "id": "fbcc0584-8d50-404a-92bd-17187b3d26c5",
   "metadata": {},
   "outputs": [],
   "source": [
    "#gestion fichier modeles pythons\n",
    "import os , sys            \n",
    "workpath = sys.path[0]\n",
    "\n",
    "sys.path.append(f'{workpath}\\fidle-env\\lib\\site-packages')\n",
    "\n",
    "#modules utilitaires\n",
    "import numpy as np\n",
    "import fidle\n",
    "   \n",
    "#traitement image\n",
    "import matplotlib.pyplot as plt   \n",
    "from skimage import io \n",
    "\n",
    "#module IA\n",
    "import tensorflow as tf\n",
    "from tensorflow import keras\n",
    "from tensorflow.keras.callbacks import TensorBoard\n",
    "from tensorflow.keras import layers\n",
    "from tensorflow.keras import activations\n",
    "from keras.models import Model"
   ]
  },
  {
   "cell_type": "code",
   "execution_count": 5,
   "id": "95388eb3-5fc7-4bcf-82c2-13e3db650c1c",
   "metadata": {},
   "outputs": [
    {
     "name": "stdout",
     "output_type": "stream",
     "text": [
      "['model_128', 'model_128_dataugmentation', 'model_256', 'model_256_dataugmentation', 'model_256_sans_bruit', 'model_256_semi_dataugmentation', 'model_64', 'model_64_dataugmentation', 'model_64_equilibre', 'model_64_sans_bruit', 'model_64_semi_dataugmentation']\n"
     ]
    }
   ],
   "source": [
    "dossier_models_path = f'{workpath}/trained_model'\n",
    "model_path = os.listdir(dossier_models_path)\n",
    "\n",
    "#print les datasets exites\n",
    "#les plus inderessant sont les dataset terminer par '64' '128' '256 'sans_bruit','equilibre'. dataugementation signifie on a ajouter du bruit.\n",
    "print(model_path)"
   ]
  },
  {
   "cell_type": "code",
   "execution_count": 6,
   "id": "9d7b6114-c9ee-4cd0-b73d-720e1754942c",
   "metadata": {},
   "outputs": [],
   "source": [
    "#-- obtenir le chemin de repertoire qui t'interesse"
   ]
  },
  {
   "cell_type": "code",
   "execution_count": null,
   "id": "eb7cc12d-7cbc-4e4a-873f-534cc707be42",
   "metadata": {},
   "outputs": [],
   "source": []
  }
 ],
 "metadata": {
  "kernelspec": {
   "display_name": "Python 3 (ipykernel)",
   "language": "python",
   "name": "python3"
  },
  "language_info": {
   "codemirror_mode": {
    "name": "ipython",
    "version": 3
   },
   "file_extension": ".py",
   "mimetype": "text/x-python",
   "name": "python",
   "nbconvert_exporter": "python",
   "pygments_lexer": "ipython3",
   "version": "3.8.6"
  }
 },
 "nbformat": 4,
 "nbformat_minor": 5
}
