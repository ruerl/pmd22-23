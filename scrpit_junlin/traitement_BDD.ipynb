{
 "cells": [
  {
   "cell_type": "code",
   "execution_count": 1,
   "id": "f895e7b8-0ff4-49b0-81b5-4f9b38d0ec81",
   "metadata": {},
   "outputs": [],
   "source": [
    "import os, sys\n",
    "workpath = sys.path[0]\n",
    "\n",
    "sys.path.append(f'{workpath}\\pmd22-23\\BDDfactory\\lib')\n",
    "sys.path.append(f'{workpath}\\fidle-env\\lib\\site-packages')\n",
    "import random as r\n",
    "import numpy as np\n",
    "import matplotlib.pyplot as plt\n",
    "import distrib as dis #utiliser le lib_leo\n",
    "\n",
    "from shutil import copyfile\n",
    "\n",
    "from bdd_prs import *\n",
    "\n",
    "list_of_class = [\"CUBO\",\"DEC\",\"FCC\",\"FCC-sphere\",\"HCP-sphere\",\"ICO\",\"MnBeta-sphere\",\"OH\",\"RTD\",\"BCC\",\"DODECA\"]\n",
    "Nclass = len(list_of_class)"
   ]
  },
  {
   "cell_type": "code",
   "execution_count": 14,
   "id": "4a047a2a-0a65-4a79-be8f-c04715c9830e",
   "metadata": {},
   "outputs": [
    {
     "data": {
      "image/png": "[encoded data removed]",
      "text/plain": [
       "<Figure size 1500x200 with 1 Axes>"
      ]
     },
     "metadata": {},
     "output_type": "display_data"
    },
    {
     "name": "stdout",
     "output_type": "stream",
     "text": [
      "Part of CUBO in BDD = 9.09000199560966 %\n",
      "\n",
      "Part of DEC in BDD = 9.09000199560966 %\n",
      "\n",
      "Part of FCC in BDD = 9.09000199560966 %\n",
      "\n",
      "Part of FCC-sphere in BDD = 9.09000199560966 %\n",
      "\n",
      "Part of HCP-sphere in BDD = 9.09000199560966 %\n",
      "\n",
      "Part of ICO in BDD = 9.09000199560966 %\n",
      "\n",
      "Part of MnBeta-sphere in BDD = 9.09000199560966 %\n",
      "\n",
      "Part of OH in BDD = 9.09000199560966 %\n",
      "\n",
      "Part of RTD in BDD = 9.09000199560966 %\n",
      "\n",
      "Part of BCC in BDD = 9.09000199560966 %\n",
      "\n",
      "Part of DODECA in BDD = 9.099980043903413 %\n",
      "\n"
     ]
    },
    {
     "ename": "TypeError",
     "evalue": "cannot unpack non-iterable NoneType object",
     "output_type": "error",
     "traceback": [
      "\u001b[1;31m---------------------------------------------------------------------------\u001b[0m",
      "\u001b[1;31mTypeError\u001b[0m                                 Traceback (most recent call last)",
      "Cell \u001b[1;32mIn [14], line 3\u001b[0m\n\u001b[0;32m      1\u001b[0m \u001b[38;5;66;03m#equlibrer la distribution de classe dans le path\u001b[39;00m\n\u001b[0;32m      2\u001b[0m path \u001b[38;5;241m=\u001b[39m \u001b[38;5;124m\"\u001b[39m\u001b[38;5;124mE:\u001b[39m\u001b[38;5;124m\\\u001b[39m\u001b[38;5;124mINSA-cour\u001b[39m\u001b[38;5;124m\\\u001b[39m\u001b[38;5;124mA4A\u001b[39m\u001b[38;5;124m\\\u001b[39m\u001b[38;5;124mProjet_multi\u001b[39m\u001b[38;5;124m\\\u001b[39m\u001b[38;5;124mwork-dictory\u001b[39m\u001b[38;5;124m\\\u001b[39m\u001b[38;5;124mdatasheet\u001b[39m\u001b[38;5;124m\\\u001b[39m\u001b[38;5;124mmmClasses-DataBase-IMG\u001b[39m\u001b[38;5;124m\\\u001b[39m\u001b[38;5;124mmmClasses-DataBase-IMG\u001b[39m\u001b[38;5;124m\\\u001b[39m\u001b[38;5;124mdata_256_equilibre\u001b[39m\u001b[38;5;124m\"\u001b[39m\n\u001b[1;32m----> 3\u001b[0m distrib , BDDcontent , Nbimg \u001b[38;5;241m=\u001b[39m dis\u001b[38;5;241m.\u001b[39mdistrib_BDD ( path, result \u001b[38;5;241m=\u001b[39m \u001b[38;5;28;01mTrue\u001b[39;00m)\n",
      "\u001b[1;31mTypeError\u001b[0m: cannot unpack non-iterable NoneType object"
     ]
    }
   ],
   "source": [
    "#equlibrer la distribution de classe dans le path\n",
    "path = \"E:\\INSA-cour\\A4A\\Projet_multi\\work-dictory\\datasheet\\mmClasses-DataBase-IMG\\mmClasses-DataBase-IMG\\data_256_equilibre\"\n",
    "distrib , BDDcontent , Nbimg = dis.distrib_BDD ( path, result = True)"
   ]
  },
  {
   "cell_type": "code",
   "execution_count": 9,
   "id": "987612fd-ec28-42ff-b996-8d6b7b601e61",
   "metadata": {},
   "outputs": [
    {
     "name": "stdout",
     "output_type": "stream",
     "text": [
      "Press 'exit' to cancel\n"
     ]
    },
    {
     "name": "stdin",
     "output_type": "stream",
     "text": [
      "Nom de la BDD : data_256_equilibre\n",
      "Proportion (%) en CUBO :  9.09\n",
      "Proportion (%) en DEC :  9.09\n",
      "Proportion (%) en FCC :  9.09\n",
      "Proportion (%) en FCC-sphere :  9.09\n",
      "Proportion (%) en HCP-sphere :  9.09\n",
      "Proportion (%) en ICO :  9.09\n",
      "Proportion (%) en MnBeta-sphere :  9.09\n",
      "Proportion (%) en OH :  9.09\n",
      "Proportion (%) en RTD :  9.09\n",
      "Proportion (%) en BCC :  9.09\n",
      "Proportion (%) en DODECA :  9.1\n"
     ]
    }
   ],
   "source": [
    "dis.custom_BDD(path)"
   ]
  },
  {
   "cell_type": "code",
   "execution_count": 10,
   "id": "2a2dacdf-5848-4caf-be54-4c6d9594426a",
   "metadata": {},
   "outputs": [],
   "source": [
    "datapath = f'{workpath}\\datasheet\\mmClasses-DataBase-IMG\\mmClasses-DataBase-IMG\\data_256_equilibre'"
   ]
  },
  {
   "cell_type": "code",
   "execution_count": 11,
   "id": "26ec44c4-5da6-4bed-b566-101521b04dd1",
   "metadata": {},
   "outputs": [],
   "source": [
    "def renommer_mu(datapath : str): #enlever tout les µ qui embeche la lecture d'image avec cv2\n",
    "    L = os.listdir(datapath)   #liste contenenant le nom (en .jpg) de toutes les images\n",
    "    nb_files = len(L)\n",
    "    nombre_mu = 0\n",
    "    for i in range(nb_files - 1) :\n",
    "        name = L[i]\n",
    "        new_name = name\n",
    "        if name.count('µ') != 0:\n",
    "            nombre_mu = nombre_mu + 1 # ce nombre_mu est la premier fois \n",
    "            new_name = new_name.replace(\"µ\", \"mu\")\n",
    "            os.rename(f'{datapath}/{name}',f'{datapath}/{new_name}')\n",
    "    print(f'nombre initial de µ est {nombre_mu} ')  \n",
    "    L = os.listdir(datapath) \n",
    "    n_mu = 0\n",
    "    #verification si il y a des µ, si oui, le fonction rappelera lui meme pour fonctionner encore une fois\n",
    "    for i in range(nb_files - 1): \n",
    "        if L.count('µ') != 0:\n",
    "            n_mu = n_mu + 1\n",
    "    if n_mu != 0:\n",
    "        renommer_mu(datapath)\n",
    "    return n_mu"
   ]
  },
  {
   "cell_type": "code",
   "execution_count": 13,
   "id": "b7d4b6a5-059f-460f-945b-58c1932d5c61",
   "metadata": {},
   "outputs": [
    {
     "name": "stdout",
     "output_type": "stream",
     "text": [
      "nombre initial de µ est 0 \n"
     ]
    }
   ],
   "source": [
    "nombre_miu = renommer_mu(datapath)"
   ]
  },
  {
   "cell_type": "raw",
   "id": "354aaf55-0338-4a46-a7db-e2591d5e1752",
   "metadata": {},
   "source": [
    "011-Pt427-DODECA-3Shells-000500µ195.jpg"
   ]
  }
 ],
 "metadata": {
  "kernelspec": {
   "display_name": "Python 3 (ipykernel)",
   "language": "python",
   "name": "python3"
  },
  "language_info": {
   "codemirror_mode": {
    "name": "ipython",
    "version": 3
   },
   "file_extension": ".py",
   "mimetype": "text/x-python",
   "name": "python",
   "nbconvert_exporter": "python",
   "pygments_lexer": "ipython3",
   "version": "3.8.6"
  }
 },
 "nbformat": 4,
 "nbformat_minor": 5
}
