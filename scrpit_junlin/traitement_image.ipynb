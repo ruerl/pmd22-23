{
 "cells": [
  {
   "cell_type": "markdown",
   "id": "882debd0-1165-471f-809b-79380196e390",
   "metadata": {},
   "source": [
    "## encadrer, tirer les partie interesants dans l'image et les enregister "
   ]
  },
  {
   "cell_type": "code",
   "execution_count": 10,
   "id": "cac4dd18-2db1-45b5-97ac-c2d8d94fd2cd",
   "metadata": {},
   "outputs": [],
   "source": [
    "import cv2\n",
    "import numpy as np\n",
    "import os , sys            \n",
    "workpath = sys.path[0]"
   ]
  },
  {
   "cell_type": "code",
   "execution_count": 34,
   "id": "da70dfa0-47c9-41fd-a297-04155307e51b",
   "metadata": {},
   "outputs": [],
   "source": [
    "\"\"\"\n",
    "path_img = f'{workpath}\\datasheet\\mmClasses-DataBase-IMG\\mmClasses-DataBase-IMG\\data_64_equilibre'\n",
    "L = os.listdir(path_img)\n",
    "img = f'{path_img}\\{L[500]}'\n",
    "img = cv2.imread(img,cv2.IMREAD_GRAYSCALE)\n",
    "\"\"\"\n",
    "path_img = f'{workpath}\\qq_img_relle'\n",
    "L = os.listdir(path_img)\n",
    "img = f'{path_img}\\{L[0]}'\n",
    "img = cv2.imread(img,cv2.IMREAD_GRAYSCALE)"
   ]
  },
  {
   "cell_type": "code",
   "execution_count": 56,
   "id": "2d8127ea-75e0-42a7-be5d-033ae3db7e44",
   "metadata": {},
   "outputs": [
    {
     "name": "stdout",
     "output_type": "stream",
     "text": [
      "E:\\INSA-cour\\A4A\\Projet_multi\\work-dictory\\qq_img_relle\n",
      "<class 'str'>\n"
     ]
    }
   ],
   "source": [
    "print(path_img)\n",
    "print(type(path_img))"
   ]
  },
  {
   "cell_type": "code",
   "execution_count": 35,
   "id": "e352c851-9ea9-4f0f-a40f-ed4a07560573",
   "metadata": {},
   "outputs": [],
   "source": [
    "BGR_img =  cv2.cvtColor(img, cv2.COLOR_GRAY2BGR)\n",
    "HSV_img = cv2.cvtColor(BGR_img, cv2.COLOR_BGR2HSV)"
   ]
  },
  {
   "cell_type": "code",
   "execution_count": 63,
   "id": "cb80b412-716f-43dd-8a1e-7f24679641bf",
   "metadata": {},
   "outputs": [],
   "source": [
    "cv2.namedWindow(\"HSV_Image\",0)\n",
    "cv2.resizeWindow(\"HSV_Image\",300,300)\n",
    "cv2.imshow(\"HSV_Image\", HSV_img)\n",
    "cv2.waitKey(0)\n",
    "cv2.destroyAllWindows()"
   ]
  },
  {
   "cell_type": "code",
   "execution_count": 64,
   "id": "8db25256-d16a-4267-8a1a-287753adb92c",
   "metadata": {},
   "outputs": [
    {
     "name": "stdout",
     "output_type": "stream",
     "text": [
      "(1365, 2048, 3)\n"
     ]
    }
   ],
   "source": [
    "print(HSV_img.shape)"
   ]
  },
  {
   "cell_type": "code",
   "execution_count": 65,
   "id": "ae840da8-b636-439a-8c0a-a137f61159ad",
   "metadata": {},
   "outputs": [
    {
     "name": "stdout",
     "output_type": "stream",
     "text": [
      "[  0   0 208]\n"
     ]
    }
   ],
   "source": [
    "print(HSV_img[600][2000])"
   ]
  },
  {
   "cell_type": "code",
   "execution_count": 18,
   "id": "4ad00e3c-36dc-4c22-9e8f-4280267728fb",
   "metadata": {},
   "outputs": [],
   "source": [
    "def get_mask_image(hsv_image, lower, upper):\n",
    "    \"\"\"\n",
    "    获取二值化图片\n",
    "     1）通过阀值获取二值化图像\n",
    "    \"\"\"\n",
    "    mask_image = cv2.inRange(hsv_image, lower, upper)  # 获取二值化图片\n",
    "    \n",
    "    cv2.namedWindow(\"Mask Image\",0)\n",
    "    cv2.resizeWindow(\"Mask Image\",300,300)\n",
    "    cv2.imshow(\"Mask Image\", mask_image)\n",
    "    cv2.waitKey(0)\n",
    "    cv2.destroyAllWindows()\n",
    "    print(mask_image.shape)\n",
    "    return mask_image"
   ]
  },
  {
   "cell_type": "code",
   "execution_count": 77,
   "id": "7a24e909-0de1-4b7b-b848-64cbb996d89f",
   "metadata": {},
   "outputs": [
    {
     "name": "stdout",
     "output_type": "stream",
     "text": [
      "(1365, 2048)\n"
     ]
    }
   ],
   "source": [
    "lower = np.array([0, 0, 10])\n",
    "upper = np.array([0, 0, 180])\n",
    "mask_image = get_mask_image(HSV_img, lower, upper)  # 获取二值化图像 通过HSV的高低阈值，提取图像部分区域"
   ]
  },
  {
   "cell_type": "code",
   "execution_count": 67,
   "id": "28ad8b07-716f-4d3d-b595-df9db492c9f8",
   "metadata": {},
   "outputs": [],
   "source": [
    "def get_morphology_image(mask_image):\n",
    "    \"\"\"\n",
    "    对二值化图像进行形态学处理-消除噪音影响\n",
    "      1) 先进行膨胀处理\n",
    "         膨胀就是使用算法，来将图像的边缘扩大些。作用就是将目标的边缘或者是内部的坑填掉,去掉较小的孔洞\n",
    "      2) 再进行腐蚀处理\n",
    "         腐蚀：腐蚀会把物体的边界腐蚀掉，主要应用在去除白噪声，也可以断开连在一起的物体\n",
    "    \"\"\"\n",
    "\n",
    "    kernel = np.ones((5, 5), np.uint8)\n",
    "    dialationIamge = cv2.dilate(mask_image, kernel, iterations=1)  # 膨胀处理\n",
    "    eroded_iamge = cv2.erode(dialationIamge, kernel, iterations=1)  # 腐蚀处理\n",
    "\n",
    "    cv2.namedWindow(\"Eroded Image\",0)\n",
    "    cv2.resizeWindow(\"Eroded Image\",300,300)\n",
    "    cv2.imshow(\"Eroded Image\", eroded_iamge)\n",
    "    cv2.waitKey(0)\n",
    "    cv2.destroyAllWindows() \n",
    "      # 显示形态学处理过后的图片\n",
    "    return eroded_iamge\n"
   ]
  },
  {
   "cell_type": "code",
   "execution_count": 76,
   "id": "04887f94-8c5c-4cc5-bf3f-44f572144fa0",
   "metadata": {},
   "outputs": [],
   "source": [
    "eroded_image = get_morphology_image(mask_image)"
   ]
  },
  {
   "cell_type": "code",
   "execution_count": 69,
   "id": "9b96ef1e-ec6a-4637-94d7-a652ab08429b",
   "metadata": {},
   "outputs": [],
   "source": [
    "def get_contours(eroded_iamge):\n",
    "    \"\"\"\n",
    "    获取光伏组件串图片的轮廓并在原始图像上绘制轮廓\n",
    "       输入为形态学处理后的二值图像，黑色为背景，白色为目标\n",
    "       cv2.RETR_EXTERNAL 只检测外轮廓\n",
    "       cv2.CHAIN_APPROX_SIMPLE\n",
    "    \"\"\"\n",
    "    # contours是轮廓本身，hierarchy 每条轮廓对应的属性（后一个轮廓、前一个轮廓、父轮廓、内嵌轮廓的索引编号）\n",
    "    contours, hierarchy = cv2.findContours(eroded_iamge, cv2.RETR_EXTERNAL, cv2.CHAIN_APPROX_SIMPLE)  # 获取组件区域轮廓\n",
    "\n",
    "    return contours"
   ]
  },
  {
   "cell_type": "code",
   "execution_count": 74,
   "id": "0e437990-28b4-4c2c-8a7d-d66e0a6e2cfa",
   "metadata": {},
   "outputs": [],
   "source": [
    "def get_and_save_areas(contours, original_image):\n",
    "    \"\"\"\n",
    "       在原始图片中切割并保存轮廓区域\n",
    "    \"\"\"\n",
    "    min_area = 300  # 过滤那些小面积的噪音区域 \n",
    "    index = 0  # 用来标识组件区域的数量\n",
    "    for numcontours, contour in enumerate(contours):\n",
    "        image_area = cv2.contourArea(contour)\n",
    "        if image_area > min_area:\n",
    "            x, y, w, h = cv2.boundingRect(contour)\n",
    "            module_image = original_image[y:y + h, x: x + w]\n",
    "            index = index + 1\n",
    "            path_storage = path_img + '/' + str(x) + '_' + str(y) + '_' + str(w) + '_' + str(h) + '_' + str(image_area) + '_' + str(index) + '.jpg'\n",
    "            print(path_storage)\n",
    "            cv2.imwrite(path_storage, module_image)  # 文件名以坐标（X、Y）,图片的高度与宽度,图片面积,文件序号\n",
    "\n",
    "    return index"
   ]
  },
  {
   "cell_type": "code",
   "execution_count": 75,
   "id": "f6fae524-d158-40f1-b7d8-f202431d52e6",
   "metadata": {},
   "outputs": [
    {
     "name": "stdout",
     "output_type": "stream",
     "text": [
      "E:\\INSA-cour\\A4A\\Projet_multi\\work-dictory\\qq_img_relle/2005_1344_43_21_537.0_1.jpg\n",
      "E:\\INSA-cour\\A4A\\Projet_multi\\work-dictory\\qq_img_relle/1866_1259_138_106_10460.5_2.jpg\n",
      "E:\\INSA-cour\\A4A\\Projet_multi\\work-dictory\\qq_img_relle/1587_1200_287_165_31167.5_3.jpg\n",
      "E:\\INSA-cour\\A4A\\Projet_multi\\work-dictory\\qq_img_relle/278_1200_77_59_1303.0_4.jpg\n",
      "E:\\INSA-cour\\A4A\\Projet_multi\\work-dictory\\qq_img_relle/92_1179_43_77_413.0_5.jpg\n",
      "E:\\INSA-cour\\A4A\\Projet_multi\\work-dictory\\qq_img_relle/141_1178_58_76_2151.0_6.jpg\n",
      "E:\\INSA-cour\\A4A\\Projet_multi\\work-dictory\\qq_img_relle/84_1125_624_240_42177.0_7.jpg\n",
      "E:\\INSA-cour\\A4A\\Projet_multi\\work-dictory\\qq_img_relle/1262_0_137_118_13148.0_8.jpg\n",
      "E:\\INSA-cour\\A4A\\Projet_multi\\work-dictory\\qq_img_relle/713_0_387_184_41822.0_9.jpg\n",
      "E:\\INSA-cour\\A4A\\Projet_multi\\work-dictory\\qq_img_relle/644_0_70_18_344.5_10.jpg\n",
      "E:\\INSA-cour\\A4A\\Projet_multi\\work-dictory\\qq_img_relle/0_0_2048_1365_1370702.5_11.jpg\n"
     ]
    }
   ],
   "source": [
    "index = get_and_save_areas(get_contours(eroded_image), img)"
   ]
  },
  {
   "cell_type": "code",
   "execution_count": null,
   "id": "fc80a1d6-49a3-4c4a-8ed6-7479d8d3b46b",
   "metadata": {},
   "outputs": [],
   "source": []
  }
 ],
 "metadata": {
  "kernelspec": {
   "display_name": "Python 3 (ipykernel)",
   "language": "python",
   "name": "python3"
  },
  "language_info": {
   "codemirror_mode": {
    "name": "ipython",
    "version": 3
   },
   "file_extension": ".py",
   "mimetype": "text/x-python",
   "name": "python",
   "nbconvert_exporter": "python",
   "pygments_lexer": "ipython3",
   "version": "3.8.6"
  }
 },
 "nbformat": 4,
 "nbformat_minor": 5
}
