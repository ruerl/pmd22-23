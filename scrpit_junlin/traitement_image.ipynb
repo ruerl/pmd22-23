{
 "cells": [
  {
   "cell_type": "markdown",
   "id": "5e0a90b2-a538-4e06-8ae4-e17d76ff898c",
   "metadata": {},
   "source": [
    "## ce script n'est pas intéressant car il y a déjà un librairie de traitement d'image"
   ]
  },
  {
   "cell_type": "markdown",
   "id": "882debd0-1165-471f-809b-79380196e390",
   "metadata": {},
   "source": [
    "## encadrer, tirer les partie interesants dans l'image et les enregister "
   ]
  },
  {
   "cell_type": "code",
   "execution_count": null,
   "id": "cac4dd18-2db1-45b5-97ac-c2d8d94fd2cd",
   "metadata": {},
   "outputs": [],
   "source": [
    "import cv2\n",
    "import numpy as np\n",
    "import os , sys            \n",
    "workpath = sys.path[0]"
   ]
  },
  {
   "cell_type": "code",
   "execution_count": null,
   "id": "da70dfa0-47c9-41fd-a297-04155307e51b",
   "metadata": {},
   "outputs": [],
   "source": [
    "\"\"\"\n",
    "path_img = f'{workpath}\\datasheet\\mmClasses-DataBase-IMG\\mmClasses-DataBase-IMG\\data_64_equilibre'\n",
    "L = os.listdir(path_img)\n",
    "img = f'{path_img}\\{L[500]}'\n",
    "img = cv2.imread(img,cv2.IMREAD_GRAYSCALE)\n",
    "\"\"\"\n",
    "path_img = f'{workpath}\\qq_img_relle'\n",
    "L = os.listdir(path_img)\n",
    "img = f'{path_img}\\{L[0]}'\n",
    "img = cv2.imread(img,cv2.IMREAD_GRAYSCALE)"
   ]
  },
  {
   "cell_type": "code",
   "execution_count": null,
   "id": "2d8127ea-75e0-42a7-be5d-033ae3db7e44",
   "metadata": {},
   "outputs": [],
   "source": [
    "print(path_img)\n",
    "print(type(path_img))"
   ]
  },
  {
   "cell_type": "code",
   "execution_count": null,
   "id": "e352c851-9ea9-4f0f-a40f-ed4a07560573",
   "metadata": {},
   "outputs": [],
   "source": [
    "BGR_img =  cv2.cvtColor(img, cv2.COLOR_GRAY2BGR)\n",
    "HSV_img = cv2.cvtColor(BGR_img, cv2.COLOR_BGR2HSV)"
   ]
  },
  {
   "cell_type": "code",
   "execution_count": null,
   "id": "cb80b412-716f-43dd-8a1e-7f24679641bf",
   "metadata": {},
   "outputs": [],
   "source": [
    "cv2.namedWindow(\"HSV_Image\",0)\n",
    "cv2.resizeWindow(\"HSV_Image\",300,300)\n",
    "cv2.imshow(\"HSV_Image\", HSV_img)\n",
    "cv2.waitKey(0)\n",
    "cv2.destroyAllWindows()"
   ]
  },
  {
   "cell_type": "code",
   "execution_count": null,
   "id": "8db25256-d16a-4267-8a1a-287753adb92c",
   "metadata": {},
   "outputs": [],
   "source": [
    "print(HSV_img.shape)"
   ]
  },
  {
   "cell_type": "code",
   "execution_count": null,
   "id": "ae840da8-b636-439a-8c0a-a137f61159ad",
   "metadata": {},
   "outputs": [],
   "source": [
    "print(HSV_img[600][2000])"
   ]
  },
  {
   "cell_type": "code",
   "execution_count": null,
   "id": "4ad00e3c-36dc-4c22-9e8f-4280267728fb",
   "metadata": {},
   "outputs": [],
   "source": [
    "def get_mask_image(hsv_image, lower, upper):\n",
    "    \"\"\"\n",
    "    obtenir un image binaire: qui n'a que 2 valeur 0 et 255\n",
    "    les pixels qui ont une valeur inferieur que lower et surperieur que upper obtiennent 0, les autre 255 \n",
    "    \n",
    "    j'ai pas encore compris cette fonction\n",
    "    \"\"\"\n",
    "    mask_image = cv2.inRange(hsv_image, lower, upper)  # obtenir un image binaire\n",
    "    \n",
    "    cv2.namedWindow(\"Mask Image\",0)\n",
    "    cv2.resizeWindow(\"Mask Image\",300,300)\n",
    "    cv2.imshow(\"Mask Image\", mask_image)\n",
    "    cv2.waitKey(0)\n",
    "    cv2.destroyAllWindows()\n",
    "    print(mask_image.shape)\n",
    "    return mask_image"
   ]
  },
  {
   "cell_type": "code",
   "execution_count": null,
   "id": "7a24e909-0de1-4b7b-b848-64cbb996d89f",
   "metadata": {},
   "outputs": [],
   "source": [
    "lower = np.array([0, 0, 10])\n",
    "upper = np.array([0, 0, 180])\n",
    "mask_image = get_mask_image(HSV_img, lower, upper)  "
   ]
  },
  {
   "cell_type": "code",
   "execution_count": null,
   "id": "28ad8b07-716f-4d3d-b595-df9db492c9f8",
   "metadata": {},
   "outputs": [],
   "source": [
    "def get_morphology_image(mask_image):\n",
    "    \"\"\"\n",
    "     Traitement morphologique des images binarisées - éliminer les effets du bruit\n",
    "      1) Commencer par un processus d'inflation\n",
    "         Le gonflage est l'utilisation d'un algorithme pour étendre les bords d'une image. L'effet est de remplir les bords de la cible ou les piqûres internes et de supprimer les petits trous.\n",
    "      2) Corrosion\n",
    "         L'érosion : l'érosion réduit les limites d'un objet, principalement pour éliminer le bruit blanc, mais aussi pour déconnecter des objets qui sont connectés.\n",
    "\n",
    "       Traduit avec www.DeepL.com/Translator (version gratuite)\n",
    "    \"\"\"\n",
    "\n",
    "    kernel = np.ones((5, 5), np.uint8)\n",
    "    dialationIamge = cv2.dilate(mask_image, kernel, iterations=1)  # 膨胀处理\n",
    "    eroded_iamge = cv2.erode(dialationIamge, kernel, iterations=1)  # 腐蚀处理\n",
    "\n",
    "    cv2.namedWindow(\"Eroded Image\",0)\n",
    "    cv2.resizeWindow(\"Eroded Image\",300,300)\n",
    "    cv2.imshow(\"Eroded Image\", eroded_iamge)\n",
    "    cv2.waitKey(0)\n",
    "    cv2.destroyAllWindows() \n",
    "      # 显示形态学处理过后的图片\n",
    "    return eroded_iamge\n"
   ]
  },
  {
   "cell_type": "code",
   "execution_count": null,
   "id": "04887f94-8c5c-4cc5-bf3f-44f572144fa0",
   "metadata": {},
   "outputs": [],
   "source": [
    "eroded_image = get_morphology_image(mask_image)"
   ]
  },
  {
   "cell_type": "code",
   "execution_count": null,
   "id": "9b96ef1e-ec6a-4637-94d7-a652ab08429b",
   "metadata": {},
   "outputs": [],
   "source": [
    "def get_contours(eroded_iamge):\n",
    "    \"\"\"\n",
    "    Obtenir le contour de l'image et dessiner le contour sur l'image originale.\n",
    "       L'entrée est une image binaire traitée morphologiquement avec le noir comme arrière-plan et le blanc comme cible.\n",
    "       cv2.RETR_EXTERNAL détecte uniquement les contours extérieurs\n",
    "       cv2.CHAIN_APPROX_SIMPLE\n",
    "    \"\"\"\n",
    " \n",
    "    contours, hierarchy = cv2.findContours(eroded_iamge, cv2.RETR_EXTERNAL, cv2.CHAIN_APPROX_SIMPLE)  # obtenir un contour pour chaque partie de image\n",
    "\n",
    "    return contours"
   ]
  },
  {
   "cell_type": "code",
   "execution_count": null,
   "id": "0e437990-28b4-4c2c-8a7d-d66e0a6e2cfa",
   "metadata": {},
   "outputs": [],
   "source": [
    "def get_and_save_areas(contours, original_image):\n",
    "    \"\"\"\n",
    "       couper les partie interessant dans les contour dans l'image initial\n",
    "    \"\"\"\n",
    "    min_area = 300  # filter les petit espace bruité dans l'image initial\n",
    "    index = 0  # nombre de partie interessant\n",
    "    for numcontours, contour in enumerate(contours):\n",
    "        image_area = cv2.contourArea(contour)\n",
    "        if image_area > min_area:\n",
    "            x, y, w, h = cv2.boundingRect(contour)\n",
    "            module_image = original_image[y:y + h, x: x + w]\n",
    "            index = index + 1\n",
    "            path_storage = path_img + '/' + str(x) + '_' + str(y) + '_' + str(w) + '_' + str(h) + '_' + str(image_area) + '_' + str(index) + '.jpg'\n",
    "            print(path_storage)\n",
    "            cv2.imwrite(path_storage, module_image)  # sauvgarder les image dans le path_storage et les nommer par module_image\n",
    "\n",
    "    return index"
   ]
  },
  {
   "cell_type": "code",
   "execution_count": null,
   "id": "f6fae524-d158-40f1-b7d8-f202431d52e6",
   "metadata": {},
   "outputs": [],
   "source": [
    "index = get_and_save_areas(get_contours(eroded_image), img)"
   ]
  },
  {
   "cell_type": "code",
   "execution_count": null,
   "id": "fc80a1d6-49a3-4c4a-8ed6-7479d8d3b46b",
   "metadata": {},
   "outputs": [],
   "source": []
  }
 ],
 "metadata": {
  "kernelspec": {
   "display_name": "Python 3 (ipykernel)",
   "language": "python",
   "name": "python3"
  },
  "language_info": {
   "codemirror_mode": {
    "name": "ipython",
    "version": 3
   },
   "file_extension": ".py",
   "mimetype": "text/x-python",
   "name": "python",
   "nbconvert_exporter": "python",
   "pygments_lexer": "ipython3",
   "version": "3.8.6"
  }
 },
 "nbformat": 4,
 "nbformat_minor": 5
}
