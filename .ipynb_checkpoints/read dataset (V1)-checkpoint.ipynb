{
 "cells": [
  {
   "cell_type": "markdown",
   "id": "ad4a801d-6296-4268-9f81-edb9e2313752",
   "metadata": {},
   "source": [
    "## Import Python Module"
   ]
  },
  {
   "cell_type": "code",
   "execution_count": 4,
   "id": "ad95307a-c46b-4e2d-a129-665b604aad4f",
   "metadata": {},
   "outputs": [],
   "source": [
    "import os             #gestion fichier\n",
    "\n",
    "import math\n",
    "import random as r\n",
    "import numpy as np\n",
    "\n",
    "import matplotlib.pyplot as plt   #traitement image\n",
    "from skimage import color\n",
    "from skimage import io\n",
    "\n",
    "import tensorflow as tf       #module IA\n",
    "from tensorflow import keras\n",
    "from tensorflow.keras.callbacks import TensorBoard"
   ]
  },
  {
   "cell_type": "markdown",
   "id": "7ead109b-f744-4b83-864a-9d29e8a339ce",
   "metadata": {},
   "source": [
    "## Parameters for CNN and DNN"
   ]
  },
  {
   "cell_type": "code",
   "execution_count": 5,
   "id": "c0c95a8e-3516-4127-b112-91ba1310b359",
   "metadata": {},
   "outputs": [],
   "source": [
    "dataset_name  = r'BDD_img_gen'\n",
    "workpath = r'C:\\Users\\33648\\Desktop\\pmd\\fidle'\n",
    "\n",
    "scale = 0.1  #pourcentage du dataset à load\n",
    "\n",
    "batch_size    = 64\n",
    "epochs        = 5\n",
    "fit_verbosity = 1"
   ]
  },
  {
   "cell_type": "markdown",
   "id": "5118a8ed-37b1-45e8-82ee-fb8f5e552158",
   "metadata": {},
   "source": [
    "## Dataset loading"
   ]
  },
  {
   "cell_type": "code",
   "execution_count": 37,
   "id": "e3f18a92-c53e-43a1-b62e-4188e1ad0546",
   "metadata": {},
   "outputs": [
    {
     "name": "stdout",
     "output_type": "stream",
     "text": [
      "(1639, 512, 512)\n",
      "(365, 512, 512)\n",
      "(1639,)\n",
      "(365,)\n"
     ]
    }
   ],
   "source": [
    "def read_dataset (filepath : str):\n",
    "    \"\"\"entrée : chemin vers le dossier contenant la BDD\n",
    "    sortie : listes des images et leur classes respectives, mis à l'echelle et mélangé\"\"\"\n",
    "    \n",
    "    L = os.listdir(filepath)   #liste contenenant le nom (en .jpg) de toutes les images\n",
    "    nb_files = len(L)\n",
    "    \n",
    "    img_train = []    #initialisation liste sortie\n",
    "    img_test  = []    \n",
    "    ID_train  = []\n",
    "    ID_test   = []\n",
    "   \n",
    "    for i in range (round(nb_files*scale)):\n",
    "        \n",
    "        random_index = r.randint(0,nb_files - i - 1)\n",
    "        img = color.rgb2gray(io.imread(f'{filepath}\\{L[random_index]}'))\n",
    "        ID  = int (L[random_index][1:3])\n",
    "        \n",
    "        if r.random() < 0.8:\n",
    "            img_train.append(img)\n",
    "            ID_train.append(ID)\n",
    "        else:\n",
    "            img_test.append(img)\n",
    "            ID_test.append(ID)\n",
    "        \n",
    "        L.pop(random_index)\n",
    "        \n",
    "    return img_train,img_test,ID_train,ID_test\n",
    "\n",
    "\n",
    "A,B,C,D = read_dataset(f'{workpath}\\{dataset_name}') \n",
    "\n",
    "print(np.shape(A))\n",
    "print(np.shape(B))\n",
    "print(np.shape(C))\n",
    "print(np.shape(D))"
   ]
  },
  {
   "cell_type": "code",
   "execution_count": null,
   "id": "603d60c1-5021-4bc6-8fb4-0d2b5890b003",
   "metadata": {},
   "outputs": [],
   "source": []
  }
 ],
 "metadata": {
  "kernelspec": {
   "display_name": "Python 3 (ipykernel)",
   "language": "python",
   "name": "python3"
  },
  "language_info": {
   "codemirror_mode": {
    "name": "ipython",
    "version": 3
   },
   "file_extension": ".py",
   "mimetype": "text/x-python",
   "name": "python",
   "nbconvert_exporter": "python",
   "pygments_lexer": "ipython3",
   "version": "3.9.6"
  }
 },
 "nbformat": 4,
 "nbformat_minor": 5
}
