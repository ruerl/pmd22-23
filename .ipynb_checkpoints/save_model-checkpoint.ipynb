{
 "cells": [
  {
   "cell_type": "code",
   "execution_count": 1,
   "id": "3b850e68-8588-4543-9bbd-84cbd8c67b8f",
   "metadata": {},
   "outputs": [],
   "source": [
    "import tensorflow as tf       \n",
    "from tensorflow import keras\n",
    "from tensorflow.keras.callbacks import TensorBoard"
   ]
  },
  {
   "cell_type": "markdown",
   "id": "8947db14-20a6-425a-b1b1-0d6ab04428c8",
   "metadata": {},
   "source": [
    "## 18/11/22"
   ]
  },
  {
   "cell_type": "code",
   "execution_count": null,
   "id": "e34d36f9-4b2a-48cf-8f31-ef9f7a48e784",
   "metadata": {},
   "outputs": [],
   "source": [
    "scale = 0.25   \n",
    "\n",
    "batch_size    = 64\n",
    "epochs        = 6\n",
    "fit_verbosity = 1\n",
    "\n",
    "\n",
    "def create_model(lx,ly):\n",
    "    model = keras.models.Sequential()\n",
    "    \n",
    "    model.add( keras.layers.Conv2D(32, (3,3),   activation='relu', input_shape=(lx,ly,1)))\n",
    "    model.add( keras.layers.MaxPooling2D((3, 3)))\n",
    "    #model.add( keras.layers.Dropout(0.1))\n",
    "\n",
    "    model.add( keras.layers.Conv2D(64, (3, 3), activation='relu'))\n",
    "    model.add( keras.layers.MaxPooling2D((3, 3)))\n",
    "    #model.add( keras.layers.Dropout(0.1))\n",
    "\n",
    "    model.add( keras.layers.Conv2D(128, (3, 3), activation='relu'))\n",
    "    model.add( keras.layers.MaxPooling2D((3, 3)))\n",
    "    #model.add( keras.layers.Dropout(0.1))\n",
    "\n",
    "    model.add( keras.layers.Conv2D(256, (3, 3), activation='relu'))\n",
    "    model.add( keras.layers.MaxPooling2D((3, 3)))\n",
    "    #model.add( keras.layers.Dropout(0.1))\n",
    "\n",
    "    model.add( keras.layers.Flatten()) \n",
    "    model.add( keras.layers.Dense(1000, activation='relu'))\n",
    "    #model.add( keras.layers.Dropout(0.1))\n",
    "\n",
    "    model.add( keras.layers.Dense(43, activation='softmax'))\n",
    "    return model"
   ]
  }
 ],
 "metadata": {
  "kernelspec": {
   "display_name": "Python 3 (ipykernel)",
   "language": "python",
   "name": "python3"
  },
  "language_info": {
   "codemirror_mode": {
    "name": "ipython",
    "version": 3
   },
   "file_extension": ".py",
   "mimetype": "text/x-python",
   "name": "python",
   "nbconvert_exporter": "python",
   "pygments_lexer": "ipython3",
   "version": "3.9.6"
  }
 },
 "nbformat": 4,
 "nbformat_minor": 5
}
